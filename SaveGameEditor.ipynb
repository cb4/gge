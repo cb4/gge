{
 "cells": [
  {
   "cell_type": "markdown",
   "id": "d1a09c9a",
   "metadata": {},
   "source": [
    "# Gloomhaven Digital Savegame Editor\n",
    "\n",
    "Use this notebook to edit your Gloomhaven Digital savegame using Python. This can be especially useful when you want to synchronise a campaign between the physical game, a version on Tabletop Simulator (TTS) and a version on Digital that you created using [u/Knifer_Jin](https://www.reddit.com/user/knifer_Jin/)'s [Campaign Free Play Mod (No Spoilers)](https://www.reddit.com/r/Gloomhaven/comments/ruikur/gloomhaven_digital_campaign_free_play_mod_no/).\n",
    "\n",
    "To get this running, clone or download [the repo](https://github.com/tijlk/gloomhaven-digital-savegame-editor), start a Jupyter notebook instance, and open this notebook."
   ]
  },
  {
   "cell_type": "code",
   "execution_count": 24,
   "id": "81a8a83b",
   "metadata": {},
   "outputs": [
    {
     "name": "stdout",
     "output_type": "stream",
     "text": [
      "The autoreload extension is already loaded. To reload it, use:\n",
      "  %reload_ext autoreload\n"
     ]
    }
   ],
   "source": [
    "%load_ext autoreload\n",
    "%autoreload 2\n",
    "from savegame_editor import SaveGameEditor"
   ]
  },
  {
   "cell_type": "markdown",
   "id": "8c15d970",
   "metadata": {},
   "source": [
    "Define the path to your savegame, and print some general info about your campaign."
   ]
  },
  {
   "cell_type": "code",
   "execution_count": 26,
   "id": "aa9f80ef",
   "metadata": {},
   "outputs": [
    {
     "name": "stdout",
     "output_type": "stream",
     "text": [
      "22 City Events:\n",
      "Current order: 26 1 36 76 34 30 41 27 57 31 37 3 43 71 13 18 21 10 29 24 2 25\n",
      "Sorted: 1 10 13 18 2 21 24 25 26 27 29 3 30 31 34 36 37 41 43 57 71 76\n",
      "\n",
      "27 Road Events:\n",
      "Current order: 1 42 47 24 9 12 44 4 40 57 3 11 14 30 31 36 6 7 41 67 2 5 15 25 43 33 19\n",
      "Sorted: 1 11 12 14 15 19 2 24 25 3 30 31 33 36 4 40 41 42 43 44 47 5 57 6 67 7 9\n",
      "\n",
      "Scenario Overview:\n",
      "    Completed: 1 2 3 4 5 6 7 8 13 14 16 18 19 20 22 23 24 26 27 28 29 32 43 57 58 61 62 64 67\n",
      "    Unlocked: 15 17 25 30 31 33 71 72 76 81 87 93\n",
      "    Blocked: 9 10 21 35 36\n",
      "\n",
      "There was 240 gold donated to the tree so far.\n",
      "Prosperity is currently at 19.\n",
      "Reputation is currently at 20.\n",
      "\n",
      "Info about current characters:\n"
     ]
    },
    {
     "data": {
      "text/html": [
       "<div>\n",
       "<style scoped>\n",
       "    .dataframe tbody tr th:only-of-type {\n",
       "        vertical-align: middle;\n",
       "    }\n",
       "\n",
       "    .dataframe tbody tr th {\n",
       "        vertical-align: top;\n",
       "    }\n",
       "\n",
       "    .dataframe thead th {\n",
       "        text-align: right;\n",
       "    }\n",
       "</style>\n",
       "<table border=\"1\" class=\"dataframe\">\n",
       "  <thead>\n",
       "    <tr style=\"text-align: right;\">\n",
       "      <th></th>\n",
       "      <th>name</th>\n",
       "      <th>gold</th>\n",
       "      <th>level</th>\n",
       "      <th>experience</th>\n",
       "      <th>perk points available</th>\n",
       "      <th>perk checks</th>\n",
       "    </tr>\n",
       "  </thead>\n",
       "  <tbody>\n",
       "    <tr>\n",
       "      <th>1</th>\n",
       "      <td>Nine Lives Lilly</td>\n",
       "      <td>44</td>\n",
       "      <td>6</td>\n",
       "      <td>328</td>\n",
       "      <td>0</td>\n",
       "      <td>1</td>\n",
       "    </tr>\n",
       "    <tr>\n",
       "      <th>0</th>\n",
       "      <td>Sol Goodman</td>\n",
       "      <td>67</td>\n",
       "      <td>6</td>\n",
       "      <td>310</td>\n",
       "      <td>0</td>\n",
       "      <td>1</td>\n",
       "    </tr>\n",
       "    <tr>\n",
       "      <th>2</th>\n",
       "      <td>Emesh</td>\n",
       "      <td>42</td>\n",
       "      <td>4</td>\n",
       "      <td>174</td>\n",
       "      <td>0</td>\n",
       "      <td>1</td>\n",
       "    </tr>\n",
       "  </tbody>\n",
       "</table>\n",
       "</div>"
      ],
      "text/plain": [
       "               name  gold  ...  perk points available  perk checks\n",
       "1  Nine Lives Lilly    44  ...                      0            1\n",
       "0       Sol Goodman    67  ...                      0            1\n",
       "2             Emesh    42  ...                      0            1\n",
       "\n",
       "[3 rows x 6 columns]"
      ]
     },
     "metadata": {},
     "output_type": "display_data"
    }
   ],
   "source": [
    "root_dir = \"/Users/EQ81TW/Library/Application Support/unity.\" + \\\n",
    "            \"FlamingFowlStudios.Gloomhaven/GloomSaves/Campaign\"\n",
    "campaign = \"Campaign_[MOD]TabletopToDigital[MOD]_The_Starbase_Raptors_80287552\"\n",
    "editor = SaveGameEditor(root_dir=root_dir, campaign=campaign)\n",
    "editor.show_events_info()\n",
    "editor.show_scenario_overview()\n",
    "editor.show_campaign_info()\n",
    "editor.show_character_info([\"Sol Goodman\", \"Nine Lives Lilly\", \"Emesh\"])"
   ]
  },
  {
   "cell_type": "markdown",
   "id": "6b3dbf5a",
   "metadata": {},
   "source": [
    "Optionally edit your City and Road event decks to your liking by changing the order of the deck, or adding new events or removing events."
   ]
  },
  {
   "cell_type": "code",
   "execution_count": 14,
   "id": "e8b2f0ac",
   "metadata": {},
   "outputs": [
    {
     "name": "stdout",
     "output_type": "stream",
     "text": [
      "19 City Events:\n",
      "Current order: 18 3 57 41 26 71 37 27 29 21 10 31 25 2 13 1 34 24 30\n",
      "Sorted: 1 10 13 18 2 21 24 25 26 27 29 3 30 31 34 37 41 57 71\n"
     ]
    }
   ],
   "source": [
    "# editor.replace_events(event=\"city\", new_events=[\n",
    "#     18, 3, 57, 41, 26, 71, 37, 27, 29, 21, 10, 31, 25, 2, 13, 1, 34, 24, 30\n",
    "# ])"
   ]
  },
  {
   "cell_type": "code",
   "execution_count": 15,
   "id": "1151aa5f",
   "metadata": {},
   "outputs": [
    {
     "name": "stdout",
     "output_type": "stream",
     "text": [
      "24 Road Events:\n",
      "Current order: 3 33 40 5 31 42 24 30 57 47 2 19 11 7 9 41 6 4 44 12 25 14 15 1\n",
      "Sorted: 1 11 12 14 15 19 2 24 25 3 30 31 33 4 40 41 42 44 47 5 57 6 7 9\n"
     ]
    }
   ],
   "source": [
    "# editor.replace_events(event=\"road\", new_events=[\n",
    "#     3, 33, 40, 5, 31, 42, 24, 30, 57, 47, 2, 19, 11, 7, 9, 41, 6, 4, 44, 12, 25, 14, 15, 1\n",
    "# ])"
   ]
  },
  {
   "cell_type": "markdown",
   "id": "8c643bd9",
   "metadata": {},
   "source": [
    "Update the amount of gold, experience, perk points or perk checks for each of your characters (identified by their name in the game)."
   ]
  },
  {
   "cell_type": "code",
   "execution_count": 7,
   "id": "2111b717",
   "metadata": {},
   "outputs": [
    {
     "name": "stdout",
     "output_type": "stream",
     "text": [
      "Sol Goodman's gold amount was updated from 53 to 53.\n",
      "Sol Goodman's experience was updated from 288 (level 5) to 288.\n",
      "Sol Goodman's available perk points was updated from 0 to 0.\n",
      "Sol Goodman's available perk checks was updated from 1 to 1.\n",
      "Nine Lives Lilly currently has 27 gold.\n",
      "Nine Lives Lilly currently is level 6 with 308 experience.\n",
      "Nine Lives Lilly currently has 0 available perk points.\n",
      "Nine Lives Lilly currently has 0 available perk checks.\n",
      "Doc Morbid currently has 2 gold.\n",
      "Doc Morbid currently is level 6 with 276 experience.\n",
      "Doc Morbid currently has 2 available perk points.\n",
      "Doc Morbid currently has 1 available perk checks.\n",
      "Emesh currently has 42 gold.\n",
      "Emesh currently is level 4 with 174 experience.\n",
      "Emesh currently has 0 available perk points.\n",
      "Emesh currently has 1 available perk checks.\n"
     ]
    }
   ],
   "source": [
    "# editor.update_char_values(\"Sol Goodman\", gold=53, exp=288, perk_points=0, perk_checks=1)\n",
    "# editor.update_char_values(\"Nine Lives Lilly\")\n",
    "# editor.update_char_values(\"Doc Morbid\")\n",
    "# editor.update_char_values(\"Emesh\")"
   ]
  },
  {
   "cell_type": "markdown",
   "id": "06c543aa",
   "metadata": {},
   "source": [
    "Toggle certain scenario's from locked (`unlock=False`) to unlocked (`unlock=True`) or back."
   ]
  },
  {
   "cell_type": "code",
   "execution_count": 8,
   "id": "bdd64db3",
   "metadata": {},
   "outputs": [
    {
     "name": "stdout",
     "output_type": "stream",
     "text": [
      "Scenario 90 was changed from Locked to Locked.\n",
      "\n",
      "Scenario Overview:\n",
      "    Completed: 1 2 3 4 5 6 7 8 13 14 16 18 19 20 22 23 24 26 27 28 29 32 43 57 61 62 64 67\n",
      "    Unlocked: 15 17 25 30 31 33 58 71 72 76 81 87 93\n",
      "    Blocked: 9 10 21 35 36\n"
     ]
    }
   ],
   "source": [
    "# editor.toggle_scenario_unlock(scenario=90, unlock=False)\n",
    "# editor.show_scenario_overview()"
   ]
  },
  {
   "cell_type": "code",
   "execution_count": 9,
   "id": "f0fa4b38",
   "metadata": {},
   "outputs": [
    {
     "name": "stdout",
     "output_type": "stream",
     "text": [
      "The total gold donated to the tree was updated from 230 gold to 230 gold.\n",
      "Prosperity was updated from 18 to 18.\n",
      "Reputation was updated from 19 to 19.\n"
     ]
    }
   ],
   "source": [
    "# editor.update_campaign_values(donated=230, prosperity=18, reputation=19)"
   ]
  },
  {
   "cell_type": "code",
   "execution_count": 10,
   "id": "568ba7d8",
   "metadata": {},
   "outputs": [],
   "source": [
    "# editor.save_savegame()"
   ]
  }
 ],
 "metadata": {
  "kernelspec": {
   "display_name": "Python 3 (ipykernel)",
   "language": "python",
   "name": "python3"
  },
  "language_info": {
   "codemirror_mode": {
    "name": "ipython",
    "version": 3
   },
   "file_extension": ".py",
   "mimetype": "text/x-python",
   "name": "python",
   "nbconvert_exporter": "python",
   "pygments_lexer": "ipython3",
   "version": "3.9.12"
  }
 },
 "nbformat": 4,
 "nbformat_minor": 5
}
