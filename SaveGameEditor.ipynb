{
 "cells": [
  {
   "cell_type": "markdown",
   "id": "d1a09c9a",
   "metadata": {},
   "source": [
    "# Gloomhaven Digital Savegame Editor\n",
    "\n",
    "Use this notebook to edit your Gloomhaven Digital savegame using Python. This can be especially useful when you want to synchronise a campaign between the physical game, a version on Tabletop Simulator (TTS) and a version on Digital that you created using [u/Knifer_Jin](https://www.reddit.com/user/knifer_Jin/)'s [Campaign Free Play Mod (No Spoilers)](https://www.reddit.com/r/Gloomhaven/comments/ruikur/gloomhaven_digital_campaign_free_play_mod_no/).\n",
    "\n",
    "To get this running, clone or download [the repo](https://github.com/tijlk/gloomhaven-digital-savegame-editor), start a Jupyter notebook instance with a Python 3.8 environment or kernel, and open this notebook."
   ]
  },
  {
   "cell_type": "code",
   "execution_count": 6,
   "id": "78f08210",
   "metadata": {},
   "outputs": [
    {
     "name": "stdout",
     "output_type": "stream",
     "text": [
      "Requirement already satisfied: netfleece in /Users/EQ81TW/.homebrew/anaconda3/lib/python3.9/site-packages (0.1.3.1)\r\n"
     ]
    }
   ],
   "source": [
    "!pip install netfleece"
   ]
  },
  {
   "cell_type": "code",
   "execution_count": 7,
   "id": "81a8a83b",
   "metadata": {},
   "outputs": [
    {
     "name": "stdout",
     "output_type": "stream",
     "text": [
      "The autoreload extension is already loaded. To reload it, use:\n",
      "  %reload_ext autoreload\n"
     ]
    }
   ],
   "source": [
    "%load_ext autoreload\n",
    "%autoreload 2\n",
    "from savegame_editor import SaveGameEditor"
   ]
  },
  {
   "cell_type": "markdown",
   "id": "8c15d970",
   "metadata": {},
   "source": [
    "## Show current save game information\n",
    "\n",
    "Define the path to your savegame, and print some general info about your campaign."
   ]
  },
  {
   "cell_type": "code",
   "execution_count": 9,
   "id": "aa9f80ef",
   "metadata": {
    "scrolled": false
   },
   "outputs": [
    {
     "name": "stdout",
     "output_type": "stream",
     "text": [
      "20 City Events:\n",
      "Current order: 76 34 30 41 27 57 31 37 3 43 71 13 18 21 10 29 24 2 25 1\n",
      "Sorted: 1 10 13 18 2 21 24 25 27 29 3 30 31 34 37 41 43 57 71 76\n",
      "\n",
      "24 Road Events:\n",
      "Current order: 9 12 44 4 40 57 3 11 14 30 31 36 6 7 41 67 2 5 15 25 43 33 19 1\n",
      "Sorted: 1 11 12 14 15 19 2 25 3 30 31 33 36 4 40 41 43 44 5 57 6 67 7 9\n",
      "\n",
      "Scenario Overview:\n",
      "    Completed: 1 2 3 4 5 6 7 8 13 14 16 18 19 20 22 23 24 25 26 27 28 29 30 32 34 42 43 57 58 61 62 64 67\n",
      "    Unlocked: 15 17 31 71 72 76 81 82 87 93\n",
      "    Blocked: 9 10 21 33 35 36 40 41\n",
      "\n",
      "Looted chests: 9 10 17 21 38 39 41 46 50 67 69\n",
      "\n",
      "Gold donated to the tree so far: 250\n",
      "Current prosperity: 21\n",
      "Current reputation: 20\n",
      "\n",
      "Info about current characters:\n"
     ]
    },
    {
     "data": {
      "text/html": [
       "<div>\n",
       "<style scoped>\n",
       "    .dataframe tbody tr th:only-of-type {\n",
       "        vertical-align: middle;\n",
       "    }\n",
       "\n",
       "    .dataframe tbody tr th {\n",
       "        vertical-align: top;\n",
       "    }\n",
       "\n",
       "    .dataframe thead th {\n",
       "        text-align: right;\n",
       "    }\n",
       "</style>\n",
       "<table border=\"1\" class=\"dataframe\">\n",
       "  <thead>\n",
       "    <tr style=\"text-align: right;\">\n",
       "      <th></th>\n",
       "      <th>name</th>\n",
       "      <th>gold</th>\n",
       "      <th>level</th>\n",
       "      <th>experience</th>\n",
       "      <th>perk points available</th>\n",
       "      <th>perk checks</th>\n",
       "    </tr>\n",
       "  </thead>\n",
       "  <tbody>\n",
       "    <tr>\n",
       "      <th>1</th>\n",
       "      <td>Nine Lives Lilly</td>\n",
       "      <td>30</td>\n",
       "      <td>7</td>\n",
       "      <td>378</td>\n",
       "      <td>0</td>\n",
       "      <td>2</td>\n",
       "    </tr>\n",
       "    <tr>\n",
       "      <th>0</th>\n",
       "      <td>Sol Goodman</td>\n",
       "      <td>92</td>\n",
       "      <td>7</td>\n",
       "      <td>370</td>\n",
       "      <td>1</td>\n",
       "      <td>0</td>\n",
       "    </tr>\n",
       "    <tr>\n",
       "      <th>3</th>\n",
       "      <td>Poison Ivy</td>\n",
       "      <td>39</td>\n",
       "      <td>4</td>\n",
       "      <td>210</td>\n",
       "      <td>0</td>\n",
       "      <td>0</td>\n",
       "    </tr>\n",
       "    <tr>\n",
       "      <th>2</th>\n",
       "      <td>Emesh</td>\n",
       "      <td>66</td>\n",
       "      <td>4</td>\n",
       "      <td>184</td>\n",
       "      <td>0</td>\n",
       "      <td>1</td>\n",
       "    </tr>\n",
       "  </tbody>\n",
       "</table>\n",
       "</div>"
      ],
      "text/plain": [
       "               name  gold  level  experience  perk points available  \\\n",
       "1  Nine Lives Lilly    30      7         378                      0   \n",
       "0       Sol Goodman    92      7         370                      1   \n",
       "3        Poison Ivy    39      4         210                      0   \n",
       "2             Emesh    66      4         184                      0   \n",
       "\n",
       "   perk checks  \n",
       "1            2  \n",
       "0            0  \n",
       "3            0  \n",
       "2            1  "
      ]
     },
     "metadata": {},
     "output_type": "display_data"
    },
    {
     "name": "stdout",
     "output_type": "stream",
     "text": [
      "\n",
      "Current personal quest deck order:\n",
      "    The_Thin_Places\n",
      "    Foreverquest\n",
      "    Take_Back_the_Trees\n",
      "    Goliath_Toppler\n",
      "    Piety_in_All_Things\n",
      "    Battle_Legend\n",
      "    Implement_of_Light\n",
      "    Elemental_Samples\n",
      "    Pounds_of_Flesh\n",
      "    Finding_the_Cure\n",
      "    Eternal_Wanderer\n",
      "    Zealot_of_the_Blood_God\n",
      "    Seeker_of_Xorn\n",
      "    Law_Bringer\n",
      "    Trophy_Hunt\n",
      "    Greed_is_Good\n",
      "    Merchant_Class\n",
      "    A_Study_of_Anatomy\n"
     ]
    }
   ],
   "source": [
    "root_dir = \"/Users/EQ81TW/Library/Application Support/unity.\" + \\\n",
    "            \"FlamingFowlStudios.Gloomhaven/GloomSaves/Campaign\"\n",
    "campaign = \"Campaign_[MOD]TabletopToDigital[MOD]_The_Starbase_Raptors_80287552\"\n",
    "editor = SaveGameEditor(root_dir=root_dir, campaign=campaign)\n",
    "editor.show_events_info()\n",
    "editor.show_scenario_overview()\n",
    "editor.show_looted_chests()\n",
    "editor.show_campaign_info()\n",
    "editor.show_character_info([\"Sol Goodman\", \"Nine Lives Lilly\", \"Emesh\", \"Poison Ivy\"])\n",
    "editor.show_personal_quests()"
   ]
  },
  {
   "cell_type": "markdown",
   "id": "b9be175b",
   "metadata": {},
   "source": [
    "## Edit the savegame\n",
    "\n",
    "### City and Road events"
   ]
  },
  {
   "cell_type": "markdown",
   "id": "6b3dbf5a",
   "metadata": {},
   "source": [
    "Optionally edit your City and Road event decks to your liking by changing the order of the deck, or adding new events or removing events."
   ]
  },
  {
   "cell_type": "code",
   "execution_count": 69,
   "id": "e8b2f0ac",
   "metadata": {},
   "outputs": [
    {
     "name": "stdout",
     "output_type": "stream",
     "text": [
      "19 City Events:\n",
      "Current order: 18 3 57 41 26 71 37 27 29 21 10 31 25 2 13 1 34 24 30\n",
      "Sorted: 1 10 13 18 2 21 24 25 26 27 29 3 30 31 34 37 41 57 71\n"
     ]
    }
   ],
   "source": [
    "# editor.replace_events(event=\"city\", new_events=[\n",
    "#     18, 3, 57, 41, 26, 71, 37, 27, 29, 21, 10, 31, 25, 2, 13, 1, 34, 24, 30\n",
    "# ])"
   ]
  },
  {
   "cell_type": "code",
   "execution_count": 70,
   "id": "1151aa5f",
   "metadata": {},
   "outputs": [
    {
     "name": "stdout",
     "output_type": "stream",
     "text": [
      "24 Road Events:\n",
      "Current order: 3 33 40 5 31 42 24 30 57 47 2 19 11 7 9 41 6 4 44 12 25 14 15 1\n",
      "Sorted: 1 11 12 14 15 19 2 24 25 3 30 31 33 4 40 41 42 44 47 5 57 6 7 9\n"
     ]
    }
   ],
   "source": [
    "# editor.replace_events(event=\"road\", new_events=[\n",
    "#     3, 33, 40, 5, 31, 42, 24, 30, 57, 47, 2, 19, 11, 7, 9, 41, 6, 4, 44, 12, 25, 14, 15, 1\n",
    "# ])"
   ]
  },
  {
   "cell_type": "markdown",
   "id": "b53bb49a",
   "metadata": {},
   "source": [
    "### Campaign and scenario progress\n",
    "\n",
    "Update the amount of gold, experience, perk points or perk checks for each of your characters (identified by their name in the game)."
   ]
  },
  {
   "cell_type": "code",
   "execution_count": 10,
   "id": "2111b717",
   "metadata": {},
   "outputs": [
    {
     "name": "stdout",
     "output_type": "stream",
     "text": [
      "Sol Goodman's gold amount was updated from 92 to 91.\n",
      "Sol Goodman's experience was updated from 370 (level 7) to 374.\n",
      "Sol Goodman's available perk points was updated from 1 to 0.\n",
      "Sol Goodman's available perk checks was updated from 0 to 0.\n",
      "Nine Lives Lilly's gold amount was updated from 30 to 45.\n",
      "Nine Lives Lilly's experience was updated from 378 (level 7) to 390.\n",
      "Nine Lives Lilly's available perk points was updated from 0 to 1.\n",
      "Nine Lives Lilly's available perk checks was updated from 2 to 1.\n",
      "Emesh's gold amount was updated from 66 to 65.\n",
      "Emesh's experience was updated from 184 (level 4) to 186.\n",
      "Emesh's available perk points was updated from 0 to 0.\n",
      "Emesh's available perk checks was updated from 1 to 1.\n",
      "Poison Ivy's gold amount was updated from 39 to 39.\n",
      "Poison Ivy's experience was updated from 210 (level 4) to 222.\n",
      "Poison Ivy's available perk points was updated from 0 to 0.\n",
      "Poison Ivy's available perk checks was updated from 0 to 1.\n"
     ]
    }
   ],
   "source": [
    "editor.update_char_values(\"Sol Goodman\", gold=91, exp=374, perk_points=0, perk_checks=0)\n",
    "editor.update_char_values(\"Nine Lives Lilly\", gold=45, exp=390, perk_points=1, perk_checks=1)\n",
    "editor.update_char_values(\"Emesh\", gold=65, exp=186, perk_points=0, perk_checks=1)\n",
    "editor.update_char_values(\"Poison Ivy\", gold=39, exp=222, perk_points=0, perk_checks=1)"
   ]
  },
  {
   "cell_type": "markdown",
   "id": "06c543aa",
   "metadata": {},
   "source": [
    "Toggle certain scenario's from locked (`unlock=False`) to unlocked (`unlock=True`) or back."
   ]
  },
  {
   "cell_type": "code",
   "execution_count": 72,
   "id": "bdd64db3",
   "metadata": {},
   "outputs": [
    {
     "name": "stdout",
     "output_type": "stream",
     "text": [
      "Scenario 90 was changed from Locked to Locked.\n",
      "\n",
      "Scenario Overview:\n",
      "    Completed: 1 2 3 4 5 6 7 8 13 14 16 18 19 20 22 23 24 26 27 28 29 32 43 57 58 61 62 64 67\n",
      "    Unlocked: 15 17 25 30 31 33 71 72 76 81 87 93\n",
      "    Blocked: 9 10 21 35 36\n"
     ]
    }
   ],
   "source": [
    "# editor.toggle_scenario_unlock(scenario=90, unlock=False)\n",
    "# editor.show_scenario_overview()"
   ]
  },
  {
   "cell_type": "markdown",
   "id": "a103113c",
   "metadata": {},
   "source": [
    "Update some campaign values, like the amount donated to the Temple of the Great Oak (`donated`), the amount of prosperity Gloomhaven currently has (`prosperity`) and the reputation of your party (`reputation`)."
   ]
  },
  {
   "cell_type": "code",
   "execution_count": 73,
   "id": "f0fa4b38",
   "metadata": {},
   "outputs": [
    {
     "name": "stdout",
     "output_type": "stream",
     "text": [
      "The total gold donated to the tree was updated from 240 gold to 230 gold.\n",
      "Prosperity was updated from 19 to 18.\n",
      "Reputation was updated from 20 to 19.\n"
     ]
    }
   ],
   "source": [
    "# editor.update_campaign_values(donated=230, prosperity=18, reputation=19)"
   ]
  },
  {
   "cell_type": "markdown",
   "id": "fc1a8ddb",
   "metadata": {},
   "source": [
    "### Personal quest decks\n",
    "\n",
    "Prioritize one or more personal quests to the top of the deck, so that the next character(s) you create will get these personal quests presented to them. This is useful when you created a character in your physical or Tabletop Simulator game, and want to recreate them in digital.\n",
    "\n",
    "If, let's say, you want to prioritise `Goliath_Toppler`, and `Implement_of_Light`, then this function will reorganise the personal quests in such a way that the first character you create next will get `Goliath_Toppler` and some other quest to choose from. The second character you create will then get `Implement_of_light` and again some other quest to choose from. Etc., etc."
   ]
  },
  {
   "cell_type": "code",
   "execution_count": 74,
   "id": "e8d2633c",
   "metadata": {},
   "outputs": [
    {
     "name": "stdout",
     "output_type": "stream",
     "text": [
      "New personal quest deck order:\n",
      "    A_Study_of_Anatomy\n",
      "    Goliath_Toppler\n",
      "    The_Perfect_Poison\n",
      "    Implement_of_Light\n",
      "    The_Thin_Places\n",
      "    Foreverquest\n",
      "    Take_Back_the_Trees\n",
      "    Piety_in_All_Things\n",
      "    Battle_Legend\n",
      "    Elemental_Samples\n",
      "    Pounds_of_Flesh\n",
      "    Finding_the_Cure\n",
      "    Eternal_Wanderer\n",
      "    Zealot_of_the_Blood_God\n",
      "    Seeker_of_Xorn\n",
      "    Law_Bringer\n",
      "    Trophy_Hunt\n",
      "    Greed_is_Good\n",
      "    Merchant_Class\n"
     ]
    }
   ],
   "source": [
    "# editor.prioritise_personal_quests([\"Goliath_Toppler\", \"Implement_of_Light\"])"
   ]
  },
  {
   "cell_type": "markdown",
   "id": "f653a23e",
   "metadata": {},
   "source": [
    "Remove one or more quests from the personal quest pool. This is useful when you retired some characters already in your physical or Tabletop Simulator campaign, and want to make sure the quest doesn't appear again. Note that this also immediately unlocks all the rewards that you get when you complete these personal quests."
   ]
  },
  {
   "cell_type": "code",
   "execution_count": 75,
   "id": "932760c1",
   "metadata": {},
   "outputs": [
    {
     "name": "stdout",
     "output_type": "stream",
     "text": [
      "New personal quest deck order:\n",
      "    A_Study_of_Anatomy\n",
      "    Goliath_Toppler\n",
      "    The_Perfect_Poison\n",
      "    Implement_of_Light\n",
      "    Foreverquest\n",
      "    Take_Back_the_Trees\n",
      "    Piety_in_All_Things\n",
      "    Battle_Legend\n",
      "    Elemental_Samples\n",
      "    Pounds_of_Flesh\n",
      "    Finding_the_Cure\n",
      "    Eternal_Wanderer\n",
      "    Zealot_of_the_Blood_God\n",
      "    Seeker_of_Xorn\n",
      "    Law_Bringer\n",
      "    Trophy_Hunt\n",
      "    Merchant_Class\n"
     ]
    }
   ],
   "source": [
    "# editor.remove_personal_quests([\"Greed_is_Good\", \"The_Thin_Places\"])"
   ]
  },
  {
   "cell_type": "markdown",
   "id": "0b843486",
   "metadata": {},
   "source": [
    "Set certain chests as 'looted', so that they cannot be looted again. Use this when you looted chests in your physical or Tabletop Simulator campaign, and you want to make sure that you can't loot them again in the digital version. Note that any rewards you gained in your physical campaign when you looted these chests, you'll have to reward yourself manually in the game."
   ]
  },
  {
   "cell_type": "code",
   "execution_count": 77,
   "id": "6142ab14",
   "metadata": {},
   "outputs": [
    {
     "name": "stdout",
     "output_type": "stream",
     "text": [
      "The following chests will now be set to 'looted': 1 5 7 8 20 24 32 51 63 70\n",
      "\n",
      "Looted chests: 1 5 7 8 9 10 17 20 21 24 32 38 39 41 46 50 51 63 67 69 70\n"
     ]
    }
   ],
   "source": [
    "# CURRENTLY BROKEN!!! DO NOT USE!!!\n",
    "# editor.toggle_chests(looted=[1, 7, 9, 10, 17, 21, 32, 38, 39, 41, 46, 50, 51, 63, 67, 69, 70, 5, 8, 20, 24])"
   ]
  },
  {
   "cell_type": "code",
   "execution_count": 11,
   "id": "568ba7d8",
   "metadata": {},
   "outputs": [],
   "source": [
    "editor.save_savegame()"
   ]
  },
  {
   "cell_type": "code",
   "execution_count": null,
   "id": "2ce3fc8d",
   "metadata": {},
   "outputs": [],
   "source": []
  }
 ],
 "metadata": {
  "kernelspec": {
   "display_name": "Python (3.8)",
   "language": "python",
   "name": "python38"
  },
  "language_info": {
   "codemirror_mode": {
    "name": "ipython",
    "version": 3
   },
   "file_extension": ".py",
   "mimetype": "text/x-python",
   "name": "python",
   "nbconvert_exporter": "python",
   "pygments_lexer": "ipython3",
   "version": "3.8.13"
  }
 },
 "nbformat": 4,
 "nbformat_minor": 5
}
