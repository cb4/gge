{
 "cells": [
  {
   "cell_type": "code",
   "execution_count": 82,
   "id": "81a8a83b",
   "metadata": {},
   "outputs": [],
   "source": [
    "import re\n",
    "from datetime import datetime\n",
    "import struct\n",
    "\n",
    "\n",
    "class SaveGameEditor:\n",
    "    def __init__(self, ext=\".dat\", root_dir=None, campaign=None):\n",
    "        self.root_dir = root_dir\n",
    "        self.campaign = campaign\n",
    "        self.file = f\"{self.root_dir}/{self.campaign}/{self.campaign}{ext}\"\n",
    "        self.read_savegame()\n",
    "        self.save_backup_savegame()\n",
    "        \n",
    "    def save_backup_savegame(self):\n",
    "        now_str = datetime.now().strftime(\"%Y%m%d-%H%M%S\")\n",
    "        with open(f\"{self.file}-backup-{now_str}\", 'wb') as f:\n",
    "            f.write(self.txt)\n",
    "    \n",
    "    def read_savegame(self):\n",
    "        with open(self.file, 'rb') as f:\n",
    "            self.txt = f.read()\n",
    "            \n",
    "    def save_savegame(self):\n",
    "        with open(self.file, 'wb') as f:\n",
    "            f.write(self.txt)\n",
    "    \n",
    "    def read_events(self):\n",
    "        res = re.search(b\"Event_City_Campaign_[0-9]{1,2}ID\\r\", self.txt)\n",
    "        city_pattern = b\"Event_City_Campaign_([a-zA-Z0-9]*)ID\"\n",
    "        self.city_events = [n for n in re.findall(city_pattern, self.txt[:res.span()[1]])]\n",
    "        self.n_city_events = len(self.city_events)\n",
    "        res = re.search(b\"Event_Road_Campaign_[0-9]{1,2}ID\\r\", self.txt)\n",
    "        road_pattern = b\"Event_Road_Campaign_([a-zA-Z0-9]*)ID\"\n",
    "        self.road_events = [n for n in re.findall(road_pattern, self.txt[:res.span()[1]])]\n",
    "        self.n_road_events = len(self.road_events)\n",
    "    \n",
    "    @staticmethod\n",
    "    def prettify_events(events):\n",
    "        return \" \".join([e.decode(\"utf-8\") for e in events])\n",
    "    \n",
    "    def print_events_info(self, event=None):\n",
    "        self.read_events()\n",
    "        if event == \"city\" or event is None:\n",
    "            print(f\"{self.n_city_events} City Events:\")\n",
    "            print(f\"Current order: {self.prettify_events(self.city_events)}\")\n",
    "            print(f\"Sorted: {self.prettify_events(sorted(self.city_events))}\")\n",
    "        if event is None:\n",
    "            print(\"\")\n",
    "        if event == \"road\" or event is None:\n",
    "            print(f\"{self.n_road_events} Road Events:\")\n",
    "            print(f\"Current order: {self.prettify_events(self.road_events)}\")\n",
    "            print(f\"Sorted: {self.prettify_events(sorted(self.road_events))}\")\n",
    "\n",
    "    @staticmethod\n",
    "    def get_events_span(events_txt, event=\"city\"):\n",
    "        event_capital = b\"City\" if event == \"city\" else b\"Road\"\n",
    "        return [\n",
    "            {\"event_number\": int(re.search(b'_([0-9]*)ID', e.group()).group(1)),\n",
    "             \"event_span\": e.span()} \n",
    "            for e in list(re.finditer(\n",
    "                b\"(\\x17|\\x18)Event_\" + event_capital + b\"_Campaign_[a-zA-Z0-9]*ID\",\n",
    "                events_txt\n",
    "            ))\n",
    "        ]\n",
    "    \n",
    "    def replace_events(self, event=\"city\", new_events=None, verbose=True):\n",
    "        if not new_events:\n",
    "            print(\"You didn't specify new events to replace the existing events with!\")\n",
    "            return\n",
    "        if event == \"city\":\n",
    "            if len(new_events) != self.n_city_events:\n",
    "                msg = \"You should supply the same number of events as there are currently in the savegame!\\n\" + \\\n",
    "                    f\"There are {self.n_city_events} city events in the deck. But you supplied {len(new_events)}.\"\n",
    "                if self.n_city_events < len(new_events):\n",
    "                    msg += f\"\\nPlease start the game and unlock {len(new_events) - self.n_city_events}\" + \\\n",
    "                        f\" extra city event(s) through the merchant, then try again.\"\n",
    "                else:\n",
    "                    msg += f\"\\nI replaced all the city events with event 33, which can easily be triggered and\" + \\\n",
    "                        f\" then discarded.\\nSo, please start the game and trigger {self.n_city_events - len(new_events)}\" + \\\n",
    "                        f\" city event(s), each time choosing the bottom option.\\nThen try again.\"\n",
    "                    new_events = [33]*self.n_city_events\n",
    "                    self.replace_events(event=event, new_events=new_events)\n",
    "                print(msg)\n",
    "                return\n",
    "        if event == \"road\":\n",
    "            if len(new_events) != self.n_road_events:\n",
    "                msg = \"You should supply the same number of events as there are currently in the savegame!\\n\" + \\\n",
    "                    f\"There are {self.n_road_events} road events in the deck. But you supplied {len(new_events)}.\"\n",
    "                if self.n_road_events < len(new_events):\n",
    "                    msg += f\"\\nPlease start the game and unlock {len(new_events) - self.n_road_events}\" + \\\n",
    "                        f\" extra road event(s), then try again.\"\n",
    "                else:\n",
    "                    msg += f\"\\nI replaced all the road events with event 16, which can easily be triggered and\" + \\\n",
    "                        f\" then discarded.\\nSo, please start the game and trigger {self.n_road_events - len(new_events)}\" + \\\n",
    "                        f\" road event(s), each time choosing the bottom option.\\nThen try again.\"\n",
    "                    new_events = [16]*self.n_road_events\n",
    "                    self.replace_events(event=event, new_events=new_events, verbose=False)\n",
    "                print(msg)\n",
    "                return\n",
    "        event_capital = b\"City\" if event == \"city\" else b\"Road\"\n",
    "        \n",
    "        # Find the location of the event data within the full text\n",
    "        events_start_index = list(\n",
    "            re.finditer(b\"Event_\" + event_capital + b\"_Campaign_[a-zA-Z0-9]*ID\", self.txt)\n",
    "        )[0].start() - 1\n",
    "        events_end_index = list(\n",
    "            re.finditer(b\"Event_\" + event_capital + b\"_Campaign_[a-zA-Z0-9]*ID\\r\", self.txt)\n",
    "        )[0].end()\n",
    "        events_txt = self.txt[events_start_index:events_end_index]\n",
    "        \n",
    "        # Find all the individual events within the text, return their exact location in the string\n",
    "        # and return the text as a list of substrings that we can then alter\n",
    "        event_infos = self.get_events_span(events_txt, event=event)  \n",
    "        events_txt_list = []\n",
    "        for i, event_info in enumerate(event_infos):\n",
    "            next_str = events_txt[event_info[\"event_span\"][0]:event_info[\"event_span\"][1]]\n",
    "            events_txt_list.append(next_str)\n",
    "            if i < len(event_infos)-1:\n",
    "                next_str = events_txt[event_info[\"event_span\"][1]:event_infos[i+1][\"event_span\"][0]]\n",
    "                events_txt_list.append(next_str)\n",
    "            else:\n",
    "                next_str = events_txt[event_info[\"event_span\"][1]:]\n",
    "                events_txt_list.append(next_str)\n",
    "        # Alter all the events into the correct events\n",
    "        for i, new_event in enumerate(new_events):\n",
    "            if new_event >= 10:\n",
    "                event_str = b\"\\x18\"\n",
    "            else:\n",
    "                event_str = b\"\\x17\"\n",
    "            event_str = event_str + b\"Event_\" + event_capital + b\"_Campaign_\" + \\\n",
    "                bytes(str(new_event), \"utf-8\") + b\"ID\"\n",
    "            events_txt_list[i*2] = event_str\n",
    "            \n",
    "        # Recreate the event text and the full text\n",
    "        new_events_txt = b''.join(events_txt_list)\n",
    "        new_txt = self.txt[:events_start_index] + new_events_txt + self.txt[events_end_index:]\n",
    "        self.txt = new_txt\n",
    "        if verbose:\n",
    "            self.print_events_info(event=event)\n",
    "        \n",
    "    def update_gold_and_exp(self, char_name=\"Sol Goodman\", gold=None, exp=None):\n",
    "        char_info_span = re.search(bytes(char_name, \"utf-8\") + b'(?s:.)*?ID(.*?)', self.txt).span(1)\n",
    "        gold_span = (char_info_span[0], char_info_span[0]+4)\n",
    "        exp_span = (char_info_span[0]+4, char_info_span[0]+8)\n",
    "        level_span = (char_info_span[0]+8, char_info_span[0]+12)\n",
    "        current_gold = struct.unpack(\"<I\", self.txt[gold_span[0]:gold_span[1]])[0]\n",
    "        current_exp = struct.unpack(\"<I\", self.txt[exp_span[0]:exp_span[1]])[0]\n",
    "        current_level = struct.unpack(\"<I\", self.txt[level_span[0]:level_span[1]])[0]\n",
    "        if gold:\n",
    "            new_gold_str = struct.pack('<I', gold)\n",
    "            self.txt = self.txt[0:gold_span[0]] + new_gold_str + self.txt[gold_span[1]:]\n",
    "            new_gold = struct.unpack(\"<I\", self.txt[gold_span[0]:gold_span[1]])[0]\n",
    "            print(f\"Updated {char_name}'s gold amount from {current_gold} to {new_gold}.\")\n",
    "        else:\n",
    "            print(f\"{char_name} currently has {current_gold} gold.\")\n",
    "        if exp:\n",
    "            new_exp_str = struct.pack('<I', exp)\n",
    "            self.txt = self.txt[0:exp_span[0]] + new_exp_str + self.txt[exp_span[1]:]\n",
    "            new_exp = struct.unpack(\"<I\", self.txt[exp_span[0]:exp_span[1]])[0]\n",
    "            print(f\"Updated {char_name}'s experience from {current_exp} (level {current_level}) to {new_exp}.\")\n",
    "        else:\n",
    "            print(f\"{char_name} currently is level {current_level} with {current_exp} experience.\")"
   ]
  },
  {
   "cell_type": "code",
   "execution_count": 83,
   "id": "aa9f80ef",
   "metadata": {},
   "outputs": [
    {
     "name": "stdout",
     "output_type": "stream",
     "text": [
      "19 City Events:\n",
      "Current order: 18 3 57 41 26 71 37 27 29 21 10 31 25 2 13 1 34 24 30\n",
      "Sorted: 1 10 13 18 2 21 24 25 26 27 29 3 30 31 34 37 41 57 71\n",
      "\n",
      "24 Road Events:\n",
      "Current order: 3 33 40 5 31 42 24 30 57 47 2 19 11 7 9 41 6 4 44 12 25 14 15 1\n",
      "Sorted: 1 11 12 14 15 19 2 24 25 3 30 31 33 4 40 41 42 44 47 5 57 6 7 9\n"
     ]
    }
   ],
   "source": [
    "root_dir = \"/Users/EQ81TW/Library/Application Support/unity.\" + \\\n",
    "            \"FlamingFowlStudios.Gloomhaven/GloomSaves/Campaign\"\n",
    "campaign = \"Campaign_[MOD]TabletopToDigital[MOD]_The_Starbase_Raptors_80287552\"\n",
    "editor = SaveGameEditor(root_dir=root_dir, campaign=campaign)\n",
    "editor.print_events_info()"
   ]
  },
  {
   "cell_type": "code",
   "execution_count": 84,
   "id": "7830ae92",
   "metadata": {
    "scrolled": false
   },
   "outputs": [
    {
     "name": "stdout",
     "output_type": "stream",
     "text": [
      "19 City Events:\n",
      "Current order: 18 3 57 41 26 71 37 27 29 21 10 31 25 2 13 1 34 24 30\n",
      "Sorted: 1 10 13 18 2 21 24 25 26 27 29 3 30 31 34 37 41 57 71\n"
     ]
    }
   ],
   "source": [
    "editor.replace_events(event=\"city\", new_events=[\n",
    "    18, 3, 57, 41, 26, 71, 37, 27, 29, 21, 10, 31, 25, 2, 13, 1, 34, 24, 30\n",
    "])"
   ]
  },
  {
   "cell_type": "code",
   "execution_count": 85,
   "id": "67efeccb",
   "metadata": {},
   "outputs": [
    {
     "name": "stdout",
     "output_type": "stream",
     "text": [
      "24 Road Events:\n",
      "Current order: 3 33 40 5 31 42 24 30 57 47 2 19 11 7 9 41 6 4 44 12 25 14 15 1\n",
      "Sorted: 1 11 12 14 15 19 2 24 25 3 30 31 33 4 40 41 42 44 47 5 57 6 7 9\n"
     ]
    }
   ],
   "source": [
    "editor.replace_events(event=\"road\", new_events=[\n",
    "    3, 33, 40, 5, 31, 42, 24, 30, 57, 47, 2, 19, 11, 7, 9, 41, 6, 4, 44, 12, 25, 14, 15, 1\n",
    "])"
   ]
  },
  {
   "cell_type": "code",
   "execution_count": 86,
   "id": "2111b717",
   "metadata": {},
   "outputs": [
    {
     "name": "stdout",
     "output_type": "stream",
     "text": [
      "Updated Sol Goodman's gold amount from 54 to 54.\n",
      "Updated Sol Goodman's experience from 289 (level 5) to 289.\n",
      "Nine Lives Lilly currently has 27 gold.\n",
      "Nine Lives Lilly currently is level 6 with 308 experience.\n",
      "Doc Morbid currently has 2 gold.\n",
      "Doc Morbid currently is level 6 with 276 experience.\n",
      "Emesh currently has 42 gold.\n",
      "Emesh currently is level 4 with 174 experience.\n"
     ]
    }
   ],
   "source": [
    "editor.update_gold_and_exp(\"Sol Goodman\", gold=54, exp=289)\n",
    "editor.update_gold_and_exp(\"Nine Lives Lilly\", gold=None, exp=None)\n",
    "editor.update_gold_and_exp(\"Doc Morbid\", gold=None, exp=None)\n",
    "editor.update_gold_and_exp(\"Emesh\", gold=None, exp=None)"
   ]
  },
  {
   "cell_type": "code",
   "execution_count": 73,
   "id": "568ba7d8",
   "metadata": {},
   "outputs": [],
   "source": [
    "editor.save_savegame()"
   ]
  }
 ],
 "metadata": {
  "kernelspec": {
   "display_name": "Python 3 (ipykernel)",
   "language": "python",
   "name": "python3"
  },
  "language_info": {
   "codemirror_mode": {
    "name": "ipython",
    "version": 3
   },
   "file_extension": ".py",
   "mimetype": "text/x-python",
   "name": "python",
   "nbconvert_exporter": "python",
   "pygments_lexer": "ipython3",
   "version": "3.9.12"
  }
 },
 "nbformat": 4,
 "nbformat_minor": 5
}
