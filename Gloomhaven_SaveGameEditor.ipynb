{
 "cells": [
  {
   "cell_type": "code",
   "execution_count": 3,
   "id": "81a8a83b",
   "metadata": {},
   "outputs": [],
   "source": [
    "from savegame_editor import SaveGameEditor"
   ]
  },
  {
   "cell_type": "code",
   "execution_count": 4,
   "id": "aa9f80ef",
   "metadata": {},
   "outputs": [
    {
     "name": "stdout",
     "output_type": "stream",
     "text": [
      "19 City Events:\n",
      "Current order: 18 3 57 41 26 71 37 27 29 21 10 31 25 2 13 1 34 24 30\n",
      "Sorted: 1 10 13 18 2 21 24 25 26 27 29 3 30 31 34 37 41 57 71\n",
      "\n",
      "24 Road Events:\n",
      "Current order: 3 33 40 5 31 42 24 30 57 47 2 19 11 7 9 41 6 4 44 12 25 14 15 1\n",
      "Sorted: 1 11 12 14 15 19 2 24 25 3 30 31 33 4 40 41 42 44 47 5 57 6 7 9\n",
      "\n",
      "Scenario Overview:\n",
      "    Completed: 1 2 3 4 5 6 7 8 13 14 16 18 19 20 22 23 24 26 27 28 29 32 43 57 61 62 64 67\n",
      "    Unlocked: 15 17 25 30 31 33 58 71 72 76 81 87 93\n",
      "    Blocked: 9 10 21 35 36\n"
     ]
    }
   ],
   "source": [
    "root_dir = \"/Users/EQ81TW/Library/Application Support/unity.\" + \\\n",
    "            \"FlamingFowlStudios.Gloomhaven/GloomSaves/Campaign\"\n",
    "campaign = \"Campaign_[MOD]TabletopToDigital[MOD]_The_Starbase_Raptors_80287552\"\n",
    "editor = SaveGameEditor(root_dir=root_dir, campaign=campaign)\n",
    "editor.print_events_info()\n",
    "editor.show_scenario_overview()"
   ]
  },
  {
   "cell_type": "code",
   "execution_count": 5,
   "id": "e8b2f0ac",
   "metadata": {},
   "outputs": [
    {
     "name": "stdout",
     "output_type": "stream",
     "text": [
      "19 City Events:\n",
      "Current order: 18 3 57 41 26 71 37 27 29 21 10 31 25 2 13 1 34 24 30\n",
      "Sorted: 1 10 13 18 2 21 24 25 26 27 29 3 30 31 34 37 41 57 71\n"
     ]
    }
   ],
   "source": [
    "editor.replace_events(event=\"city\", new_events=[\n",
    "    18, 3, 57, 41, 26, 71, 37, 27, 29, 21, 10, 31, 25, 2, 13, 1, 34, 24, 30\n",
    "])"
   ]
  },
  {
   "cell_type": "code",
   "execution_count": 6,
   "id": "67efeccb",
   "metadata": {},
   "outputs": [
    {
     "name": "stdout",
     "output_type": "stream",
     "text": [
      "24 Road Events:\n",
      "Current order: 3 33 40 5 31 42 24 30 57 47 2 19 11 7 9 41 6 4 44 12 25 14 15 1\n",
      "Sorted: 1 11 12 14 15 19 2 24 25 3 30 31 33 4 40 41 42 44 47 5 57 6 7 9\n"
     ]
    }
   ],
   "source": [
    "editor.replace_events(event=\"road\", new_events=[\n",
    "    3, 33, 40, 5, 31, 42, 24, 30, 57, 47, 2, 19, 11, 7, 9, 41, 6, 4, 44, 12, 25, 14, 15, 1\n",
    "])"
   ]
  },
  {
   "cell_type": "code",
   "execution_count": 7,
   "id": "2111b717",
   "metadata": {},
   "outputs": [
    {
     "name": "stdout",
     "output_type": "stream",
     "text": [
      "Sol Goodman's gold amount was updated from 53 to 53.\n",
      "Sol Goodman's experience was updated from 288 (level 5) to 288.\n",
      "Sol Goodman's available perk points was updated from 0 to 0.\n",
      "Sol Goodman's available perk checks was updated from 1 to 1.\n",
      "Nine Lives Lilly currently has 27 gold.\n",
      "Nine Lives Lilly currently is level 6 with 308 experience.\n",
      "Nine Lives Lilly currently has 0 available perk points.\n",
      "Nine Lives Lilly currently has 0 available perk checks.\n",
      "Doc Morbid currently has 2 gold.\n",
      "Doc Morbid currently is level 6 with 276 experience.\n",
      "Doc Morbid currently has 2 available perk points.\n",
      "Doc Morbid currently has 1 available perk checks.\n",
      "Emesh currently has 42 gold.\n",
      "Emesh currently is level 4 with 174 experience.\n",
      "Emesh currently has 0 available perk points.\n",
      "Emesh currently has 1 available perk checks.\n"
     ]
    }
   ],
   "source": [
    "editor.update_char_values(\"Sol Goodman\", gold=53, exp=288, perk_points=0, perk_checks=1)\n",
    "editor.update_char_values(\"Nine Lives Lilly\")\n",
    "editor.update_char_values(\"Doc Morbid\")\n",
    "editor.update_char_values(\"Emesh\")"
   ]
  },
  {
   "cell_type": "code",
   "execution_count": 8,
   "id": "bdd64db3",
   "metadata": {},
   "outputs": [
    {
     "name": "stdout",
     "output_type": "stream",
     "text": [
      "Scenario 90 was changed from Locked to Locked.\n",
      "\n",
      "Scenario Overview:\n",
      "    Completed: 1 2 3 4 5 6 7 8 13 14 16 18 19 20 22 23 24 26 27 28 29 32 43 57 61 62 64 67\n",
      "    Unlocked: 15 17 25 30 31 33 58 71 72 76 81 87 93\n",
      "    Blocked: 9 10 21 35 36\n"
     ]
    }
   ],
   "source": [
    "editor.toggle_scenario_unlock(scenario=90, unlock=False)\n",
    "editor.show_scenario_overview()"
   ]
  },
  {
   "cell_type": "code",
   "execution_count": 9,
   "id": "f0fa4b38",
   "metadata": {},
   "outputs": [
    {
     "name": "stdout",
     "output_type": "stream",
     "text": [
      "The total gold donated to the tree was updated from 230 gold to 230 gold.\n",
      "Prosperity was updated from 18 to 18.\n",
      "Reputation was updated from 19 to 19.\n"
     ]
    }
   ],
   "source": [
    "editor.update_campaign_values(donated=230, prosperity=18, reputation=19)"
   ]
  },
  {
   "cell_type": "code",
   "execution_count": 10,
   "id": "568ba7d8",
   "metadata": {},
   "outputs": [],
   "source": [
    "editor.save_savegame()"
   ]
  }
 ],
 "metadata": {
  "kernelspec": {
   "display_name": "Python 3 (ipykernel)",
   "language": "python",
   "name": "python3"
  },
  "language_info": {
   "codemirror_mode": {
    "name": "ipython",
    "version": 3
   },
   "file_extension": ".py",
   "mimetype": "text/x-python",
   "name": "python",
   "nbconvert_exporter": "python",
   "pygments_lexer": "ipython3",
   "version": "3.9.12"
  }
 },
 "nbformat": 4,
 "nbformat_minor": 5
}
